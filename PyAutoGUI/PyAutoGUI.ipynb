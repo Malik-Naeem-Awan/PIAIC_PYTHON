{
 "cells": [
  {
   "cell_type": "markdown",
   "metadata": {},
   "source": [
    "# Lecture 01"
   ]
  },
  {
   "cell_type": "code",
   "execution_count": 3,
   "metadata": {},
   "outputs": [
    {
     "ename": "SystemExit",
     "evalue": "0",
     "output_type": "error",
     "traceback": [
      "An exception has occurred, use %tb to see the full traceback.\n",
      "\u001b[1;31mSystemExit\u001b[0m\u001b[1;31m:\u001b[0m 0\n"
     ]
    },
    {
     "name": "stderr",
     "output_type": "stream",
     "text": [
      "C:\\Users\\Muhammad Asad Naway\\Anaconda3\\lib\\site-packages\\IPython\\core\\interactiveshell.py:3334: UserWarning: To exit: use 'exit', 'quit', or Ctrl-D.\n",
      "  warn(\"To exit: use 'exit', 'quit', or Ctrl-D.\", stacklevel=1)\n"
     ]
    }
   ],
   "source": [
    "from PyQt5 import QtGui\n",
    "from PyQt5.QtWidgets import QApplication , QMainWindow\n",
    "import sys\n",
    "\n",
    "class Window(QMainWindow):\n",
    "    def __init__(self):\n",
    "        super().__init__()\n",
    "        \n",
    "        self.title = \"PyQT Window\"\n",
    "        self.top=100\n",
    "        self.left=100\n",
    "        self.width=680\n",
    "        self.height=500\n",
    "        self.setWindowIcon(QtGui.QIcon(\"p.jpg\"))\n",
    "        \n",
    "        self.InitWindow()\n",
    "        \n",
    "        \n",
    "    def InitWindow(self):\n",
    "        self.setWindowTitle(self.title)\n",
    "        self.setGeometry(self.top,self.left,self.width,self.height)\n",
    "        self.show()\n",
    "\n",
    "        \n",
    "        \n",
    "App=QApplication(sys.argv)\n",
    "window=Window()\n",
    "sys.exit(App.exec())"
   ]
  },
  {
   "cell_type": "markdown",
   "metadata": {},
   "source": [
    "# Lecture 2 Q Date & Time"
   ]
  },
  {
   "cell_type": "code",
   "execution_count": 5,
   "metadata": {},
   "outputs": [
    {
     "name": "stdout",
     "output_type": "stream",
     "text": [
      "Thu Mar 19 14:05:00 2020\n",
      "2020-03-19T14:05:00\n",
      "19 March 2020 14:05:00\n",
      "Thu Mar 19 2020\n",
      "2020-03-19\n",
      "19 March 2020\n",
      "14:05:00\n",
      "14:05:00\n",
      "14:05:00\n"
     ]
    }
   ],
   "source": [
    "from PyQt5.QtCore import QDateTime, QDate,QTime,Qt\n",
    "\n",
    "\n",
    "\n",
    "datetime=QDateTime.currentDateTime()\n",
    "\n",
    "\n",
    "print(datetime.toString())\n",
    "print(datetime.toString(Qt.ISODate))\n",
    "print(datetime.toString(Qt.DefaultLocaleLongDate))\n",
    "\n",
    "\n",
    "date=QDate.currentDate()\n",
    "print(date.toString())\n",
    "print(date.toString(Qt.ISODate))\n",
    "print(date.toString(Qt.DefaultLocaleLongDate))\n",
    "\n",
    "\n",
    "time=QTime.currentTime()\n",
    "print(time.toString())\n",
    "print(time.toString(Qt.ISODate))\n",
    "print(time.toString(Qt.DefaultLocaleLongDate))\n",
    "\n"
   ]
  },
  {
   "cell_type": "markdown",
   "metadata": {},
   "source": [
    "# Lecture # 3"
   ]
  },
  {
   "cell_type": "code",
   "execution_count": 8,
   "metadata": {},
   "outputs": [
    {
     "name": "stdout",
     "output_type": "stream",
     "text": [
      "Default Local date Time is : 19 March 2020 14:06:56\n",
      "Universal Date time is: Thu Mar 19 09:06:56 2020 GMT\n",
      "The Off set from UTC Is 18000 Seconds\n"
     ]
    }
   ],
   "source": [
    "from PyQt5.QtCore import QDateTime,Qt\n",
    "\n",
    "\n",
    "datetime=QDateTime.currentDateTime()\n",
    "\n",
    "print(\"Default Local date Time is : \"+datetime.toString(Qt.DefaultLocaleLongDate))\n",
    "print(\"Universal Date time is: \"+datetime.toUTC().toString())\n",
    "\n",
    "print(\"The Off set from UTC Is {0} Seconds\".format(datetime.offsetFromUtc()))\n"
   ]
  },
  {
   "cell_type": "markdown",
   "metadata": {},
   "source": [
    "# 4: Days in Months & Years"
   ]
  },
  {
   "cell_type": "code",
   "execution_count": 11,
   "metadata": {},
   "outputs": [
    {
     "name": "stdout",
     "output_type": "stream",
     "text": [
      "Days in a Month 29\n",
      "Days in a Year 366\n"
     ]
    }
   ],
   "source": [
    "from PyQt5.QtCore import QDate\n",
    "\n",
    "date = QDate.currentDate()\n",
    "\n",
    "d=QDate(2020,2,19)\n",
    "print(\"Days in a Month {0}\".format(d.daysInMonth()))\n",
    "print(\"Days in a Year {0}\".format(d.daysInYear()))"
   ]
  },
  {
   "cell_type": "markdown",
   "metadata": {},
   "source": [
    "# Lecture # 5"
   ]
  },
  {
   "cell_type": "code",
   "execution_count": 14,
   "metadata": {},
   "outputs": [
    {
     "name": "stdout",
     "output_type": "stream",
     "text": [
      "Todays Date & Time is : 2020-03-19T14:18:16\n",
      "Adding 12 days to the Date: 2020-03-31T14:18:16\n",
      "subtracting 24 days from date: 2020-02-24T14:18:16\n",
      "Adding 3 months to the Date: 2020-06-19T14:18:16\n",
      "Adding 12 Years to the Date: 2032-03-19T14:18:16\n"
     ]
    }
   ],
   "source": [
    "from PyQt5.QtCore import QDateTime,Qt\n",
    "\n",
    "datetime=QDateTime.currentDateTime()\n",
    "\n",
    "\n",
    "print(\"Todays Date & Time is : \"+datetime.toString(Qt.ISODate))\n",
    "print(\"Adding 12 days to the Date: {0}\".format(datetime.addDays(12).toString(Qt.ISODate)))\n",
    "print(\"subtracting 24 days from date: {0}\".format(datetime.addDays(-24).toString(Qt.ISODate)))\n",
    "print(\"Adding 3 months to the Date: {0}\".format(datetime.addMonths(3).toString(Qt.ISODate)))\n",
    "print(\"Adding 12 Years to the Date: {0}\".format(datetime.addYears(12).toString(Qt.ISODate)))"
   ]
  },
  {
   "cell_type": "markdown",
   "metadata": {},
   "source": [
    "# 6 QPush Button & QTool Tips"
   ]
  },
  {
   "cell_type": "code",
   "execution_count": 1,
   "metadata": {},
   "outputs": [
    {
     "ename": "SystemExit",
     "evalue": "0",
     "output_type": "error",
     "traceback": [
      "An exception has occurred, use %tb to see the full traceback.\n",
      "\u001b[1;31mSystemExit\u001b[0m\u001b[1;31m:\u001b[0m 0\n"
     ]
    },
    {
     "name": "stderr",
     "output_type": "stream",
     "text": [
      "C:\\Users\\Muhammad Asad Naway\\Anaconda3\\lib\\site-packages\\IPython\\core\\interactiveshell.py:3334: UserWarning: To exit: use 'exit', 'quit', or Ctrl-D.\n",
      "  warn(\"To exit: use 'exit', 'quit', or Ctrl-D.\", stacklevel=1)\n"
     ]
    }
   ],
   "source": [
    "import sys\n",
    "from PyQt5 import QtGui\n",
    "from PyQt5.QtWidgets import QMainWindow,QApplication,QPushButton,QToolTip\n",
    "\n",
    "\n",
    "class Window(QMainWindow):\n",
    "    def __init__(self):\n",
    "        super().__init__()\n",
    "        \n",
    "        self.title=\"PyQt5 Push Button\"\n",
    "        self.setWindowIcon(QtGui.QIcon(\"p.jpg\"))\n",
    "        self.top=100\n",
    "        self.left=100\n",
    "        self.width=680\n",
    "        self.height=500\n",
    "        \n",
    "        \n",
    "        button=QPushButton(\"Click Me\",self)\n",
    "        button.move(200,200)\n",
    "        button.setToolTip(\"This is Close Button\")\n",
    "        \n",
    "        self.InitUI()\n",
    "        \n",
    "        \n",
    "    def InitUI(self):\n",
    "        self.setWindowTitle(self.title)\n",
    "        self.setGeometry(self.top,self.left,self.width,self.height)\n",
    "        self.show()\n",
    "\n",
    "App=QApplication(sys.argv)\n",
    "window=Window()\n",
    "sys.exit(App.exec())"
   ]
  },
  {
   "cell_type": "markdown",
   "metadata": {},
   "source": [
    "# 7- Signals & Slots Basics"
   ]
  },
  {
   "cell_type": "raw",
   "metadata": {},
   "source": [
    "import sys\n",
    "from PyQt5 import QtGui\n",
    "from PyQt5.QtWidgets import QMainWindow,QApplication,QPushButton,QToolTip,QMessageBox\n",
    "from PyQt5.QtCore import QCoreApplication\n",
    "\n",
    "class Window(QMainWindow):\n",
    "    def __init__(self):\n",
    "        super().__init__()\n",
    "        \n",
    "        self.title=\"PyQt5 Push Button\"\n",
    "        self.setWindowIcon(QtGui.QIcon(\"p.jpg\"))\n",
    "        self.top=100\n",
    "        self.left=100\n",
    "        self.width=680\n",
    "        self.height=500\n",
    "        \n",
    "        \n",
    "        button=QPushButton(\"Close\",self)\n",
    "        button.move(200,200)\n",
    "        button.setToolTip(\"This is Close Button\")\n",
    "\n",
    "\n",
    "        self.InitUI()\n",
    "        \n",
    "        \n",
    "    def InitUI(self):\n",
    "        self.setWindowTitle(self.title)\n",
    "        self.setGeometry(self.top,self.left,self.width,self.height)\n",
    "        self.show()\n",
    "        \n",
    "        \n",
    "\n",
    "App=QApplication(sys.argv)\n",
    "window=Window()\n",
    "sys.exit(App.exec())"
   ]
  },
  {
   "cell_type": "markdown",
   "metadata": {},
   "source": [
    "# 8 SS"
   ]
  },
  {
   "cell_type": "code",
   "execution_count": 1,
   "metadata": {},
   "outputs": [
    {
     "ename": "SystemExit",
     "evalue": "0",
     "output_type": "error",
     "traceback": [
      "An exception has occurred, use %tb to see the full traceback.\n",
      "\u001b[1;31mSystemExit\u001b[0m\u001b[1;31m:\u001b[0m 0\n"
     ]
    },
    {
     "name": "stderr",
     "output_type": "stream",
     "text": [
      "C:\\Users\\Muhammad Asad Naway\\Anaconda3\\lib\\site-packages\\IPython\\core\\interactiveshell.py:3334: UserWarning: To exit: use 'exit', 'quit', or Ctrl-D.\n",
      "  warn(\"To exit: use 'exit', 'quit', or Ctrl-D.\", stacklevel=1)\n"
     ]
    }
   ],
   "source": [
    "import sys\n",
    "from PyQt5 import QtGui\n",
    "from PyQt5.QtWidgets import QMainWindow,QApplication,QPushButton,QToolTip,QMessageBox\n",
    "from PyQt5.QtCore import QCoreApplication\n",
    "\n",
    "class Window(QMainWindow):\n",
    "    def __init__(self):\n",
    "        super().__init__()\n",
    "        \n",
    "        self.title=\"PyQt5 Push Button\"\n",
    "        self.setWindowIcon(QtGui.QIcon(\"p.jpg\"))\n",
    "        self.top=100\n",
    "        self.left=100\n",
    "        self.width=680\n",
    "        self.height=500\n",
    "        \n",
    "        \n",
    "        button=QPushButton(\"Close\",self)\n",
    "        button.move(200,200)\n",
    "        button.setToolTip(\"This is Close Button\")\n",
    "        button.clicked.connect(self.CloseApp)\n",
    "\n",
    "\n",
    "        self.InitUI()\n",
    "        \n",
    "        \n",
    "    def InitUI(self):\n",
    "        self.setWindowTitle(self.title)\n",
    "        self.setGeometry(self.top,self.left,self.width,self.height)\n",
    "        self.show()\n",
    "    def CloseApp(self):\n",
    "        reply=QMessageBox.question(self,\"Close Message\",\"Are you sure to close window?\",\n",
    "                                  QMessageBox.Yes | QMessageBox.No, QMessageBox.No)\n",
    "        if(reply==QMessageBox.Yes):\n",
    "            self.close()\n",
    "        \n",
    "        \n",
    "\n",
    "App=QApplication(sys.argv)\n",
    "window=Window()\n",
    "sys.exit(App.exec())"
   ]
  },
  {
   "cell_type": "code",
   "execution_count": null,
   "metadata": {},
   "outputs": [],
   "source": []
  },
  {
   "cell_type": "code",
   "execution_count": null,
   "metadata": {},
   "outputs": [],
   "source": []
  },
  {
   "cell_type": "code",
   "execution_count": null,
   "metadata": {},
   "outputs": [],
   "source": []
  },
  {
   "cell_type": "code",
   "execution_count": null,
   "metadata": {},
   "outputs": [],
   "source": []
  },
  {
   "cell_type": "code",
   "execution_count": null,
   "metadata": {},
   "outputs": [],
   "source": []
  },
  {
   "cell_type": "code",
   "execution_count": null,
   "metadata": {},
   "outputs": [],
   "source": []
  },
  {
   "cell_type": "code",
   "execution_count": null,
   "metadata": {},
   "outputs": [],
   "source": []
  },
  {
   "cell_type": "code",
   "execution_count": null,
   "metadata": {},
   "outputs": [],
   "source": []
  },
  {
   "cell_type": "code",
   "execution_count": null,
   "metadata": {},
   "outputs": [],
   "source": []
  },
  {
   "cell_type": "code",
   "execution_count": null,
   "metadata": {},
   "outputs": [],
   "source": []
  },
  {
   "cell_type": "code",
   "execution_count": null,
   "metadata": {},
   "outputs": [],
   "source": []
  },
  {
   "cell_type": "code",
   "execution_count": null,
   "metadata": {},
   "outputs": [],
   "source": []
  },
  {
   "cell_type": "code",
   "execution_count": null,
   "metadata": {},
   "outputs": [],
   "source": []
  },
  {
   "cell_type": "code",
   "execution_count": null,
   "metadata": {},
   "outputs": [],
   "source": []
  },
  {
   "cell_type": "code",
   "execution_count": null,
   "metadata": {},
   "outputs": [],
   "source": []
  },
  {
   "cell_type": "code",
   "execution_count": null,
   "metadata": {},
   "outputs": [],
   "source": []
  },
  {
   "cell_type": "code",
   "execution_count": null,
   "metadata": {},
   "outputs": [],
   "source": []
  },
  {
   "cell_type": "code",
   "execution_count": null,
   "metadata": {},
   "outputs": [],
   "source": []
  },
  {
   "cell_type": "code",
   "execution_count": null,
   "metadata": {},
   "outputs": [],
   "source": []
  },
  {
   "cell_type": "code",
   "execution_count": null,
   "metadata": {},
   "outputs": [],
   "source": []
  },
  {
   "cell_type": "code",
   "execution_count": null,
   "metadata": {},
   "outputs": [],
   "source": []
  },
  {
   "cell_type": "code",
   "execution_count": null,
   "metadata": {},
   "outputs": [],
   "source": []
  },
  {
   "cell_type": "code",
   "execution_count": null,
   "metadata": {},
   "outputs": [],
   "source": []
  },
  {
   "cell_type": "code",
   "execution_count": null,
   "metadata": {},
   "outputs": [],
   "source": []
  },
  {
   "cell_type": "code",
   "execution_count": null,
   "metadata": {},
   "outputs": [],
   "source": []
  },
  {
   "cell_type": "code",
   "execution_count": null,
   "metadata": {},
   "outputs": [],
   "source": []
  },
  {
   "cell_type": "code",
   "execution_count": null,
   "metadata": {},
   "outputs": [],
   "source": []
  },
  {
   "cell_type": "code",
   "execution_count": null,
   "metadata": {},
   "outputs": [],
   "source": []
  },
  {
   "cell_type": "code",
   "execution_count": null,
   "metadata": {},
   "outputs": [],
   "source": []
  },
  {
   "cell_type": "code",
   "execution_count": null,
   "metadata": {},
   "outputs": [],
   "source": []
  },
  {
   "cell_type": "code",
   "execution_count": null,
   "metadata": {},
   "outputs": [],
   "source": []
  },
  {
   "cell_type": "code",
   "execution_count": null,
   "metadata": {},
   "outputs": [],
   "source": []
  },
  {
   "cell_type": "code",
   "execution_count": null,
   "metadata": {},
   "outputs": [],
   "source": []
  },
  {
   "cell_type": "code",
   "execution_count": null,
   "metadata": {},
   "outputs": [],
   "source": []
  },
  {
   "cell_type": "code",
   "execution_count": null,
   "metadata": {},
   "outputs": [],
   "source": []
  },
  {
   "cell_type": "code",
   "execution_count": null,
   "metadata": {},
   "outputs": [],
   "source": []
  },
  {
   "cell_type": "code",
   "execution_count": null,
   "metadata": {},
   "outputs": [],
   "source": []
  },
  {
   "cell_type": "code",
   "execution_count": null,
   "metadata": {},
   "outputs": [],
   "source": []
  },
  {
   "cell_type": "code",
   "execution_count": null,
   "metadata": {},
   "outputs": [],
   "source": []
  },
  {
   "cell_type": "code",
   "execution_count": null,
   "metadata": {},
   "outputs": [],
   "source": []
  },
  {
   "cell_type": "code",
   "execution_count": null,
   "metadata": {},
   "outputs": [],
   "source": []
  },
  {
   "cell_type": "code",
   "execution_count": null,
   "metadata": {},
   "outputs": [],
   "source": []
  },
  {
   "cell_type": "code",
   "execution_count": null,
   "metadata": {},
   "outputs": [],
   "source": []
  },
  {
   "cell_type": "code",
   "execution_count": null,
   "metadata": {},
   "outputs": [],
   "source": []
  },
  {
   "cell_type": "code",
   "execution_count": null,
   "metadata": {},
   "outputs": [],
   "source": []
  },
  {
   "cell_type": "code",
   "execution_count": null,
   "metadata": {},
   "outputs": [],
   "source": []
  },
  {
   "cell_type": "code",
   "execution_count": null,
   "metadata": {},
   "outputs": [],
   "source": []
  },
  {
   "cell_type": "code",
   "execution_count": null,
   "metadata": {},
   "outputs": [],
   "source": []
  },
  {
   "cell_type": "code",
   "execution_count": null,
   "metadata": {},
   "outputs": [],
   "source": []
  },
  {
   "cell_type": "code",
   "execution_count": null,
   "metadata": {},
   "outputs": [],
   "source": []
  },
  {
   "cell_type": "code",
   "execution_count": null,
   "metadata": {},
   "outputs": [],
   "source": []
  },
  {
   "cell_type": "code",
   "execution_count": null,
   "metadata": {},
   "outputs": [],
   "source": []
  },
  {
   "cell_type": "code",
   "execution_count": null,
   "metadata": {},
   "outputs": [],
   "source": []
  },
  {
   "cell_type": "code",
   "execution_count": null,
   "metadata": {},
   "outputs": [],
   "source": []
  },
  {
   "cell_type": "code",
   "execution_count": null,
   "metadata": {},
   "outputs": [],
   "source": []
  }
 ],
 "metadata": {
  "kernelspec": {
   "display_name": "Python 3",
   "language": "python",
   "name": "python3"
  },
  "language_info": {
   "codemirror_mode": {
    "name": "ipython",
    "version": 3
   },
   "file_extension": ".py",
   "mimetype": "text/x-python",
   "name": "python",
   "nbconvert_exporter": "python",
   "pygments_lexer": "ipython3",
   "version": "3.7.4"
  }
 },
 "nbformat": 4,
 "nbformat_minor": 2
}
