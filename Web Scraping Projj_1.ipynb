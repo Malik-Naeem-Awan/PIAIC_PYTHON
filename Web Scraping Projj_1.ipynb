{
 "cells": [
  {
   "cell_type": "code",
   "execution_count": 6,
   "metadata": {},
   "outputs": [
    {
     "name": "stderr",
     "output_type": "stream",
     "text": [
      "C:\\Users\\Muhammad Asad Naway\\Anaconda3\\lib\\site-packages\\xlsxwriter\\utility.py:30: UserWarning: Row number -1 must be >= 0\n",
      "  warn(\"Row number %d must be >= 0\" % row)\n"
     ]
    },
    {
     "name": "stdout",
     "output_type": "stream",
     "text": [
      "None\n",
      "None\n",
      "Press ENTER to exit95367\n"
     ]
    },
    {
     "data": {
      "text/plain": [
       "'95367'"
      ]
     },
     "execution_count": 6,
     "metadata": {},
     "output_type": "execute_result"
    }
   ],
   "source": [
    "import os\n",
    "import xlrd    \n",
    "import time\n",
    "import xlsxwriter\n",
    "from xlsxwriter.utility import xl_rowcol_to_cell\n",
    " \n",
    "def findCell(sh, searchedValue):\n",
    "    for row in range(sh.nrows):\n",
    "        myCell = sh.cell(row, 0)\n",
    "        if myCell.value == searchedValue:\n",
    "            return row\n",
    "        return -1\n",
    " \n",
    "myName = 'book.xlsx'\n",
    "wbk = xlsxwriter.Workbook(myName)\n",
    "wks = wbk.add_worksheet()\n",
    "i = -1\n",
    "\n",
    "myPath= os.getcwd()+\"\\\\\"+myName\n",
    " \n",
    "searchedValue = \"95367,\"\n",
    "for sh in xlrd.open_workbook(myPath).sheets():  \n",
    "    found=findCell(sh, searchedValue)\n",
    "    \n",
    "payScale= xl_rowcol_to_cell(found, 2)\n",
    "region= xl_rowcol_to_cell(found, 1)\n",
    "\n",
    "print(region)\n",
    "print(payScale)\n",
    "input('Press ENTER to exit')"
   ]
  },
  {
   "cell_type": "code",
   "execution_count": 9,
   "metadata": {},
   "outputs": [
    {
     "name": "stdout",
     "output_type": "stream",
     "text": [
      "Enter Zip Code: 93219,\n",
      "None\n",
      "None\n"
     ]
    }
   ],
   "source": [
    "import os\n",
    "import xlrd    \n",
    "import time\n",
    "import xlsxwriter\n",
    "from xlsxwriter.utility import xl_rowcol_to_cell\n",
    " \n",
    "def findCell(sh, searchedValue):\n",
    "    for row in range(sh.nrows):\n",
    "        myCell = sh.cell(row, 0)\n",
    "        if myCell.value == searchedValue:\n",
    "            return row\n",
    "        return -1\n",
    "myName = 'book.xlsx'\n",
    "wbk = xlsxwriter.Workbook(myName)\n",
    "wks = wbk.add_worksheet()\n",
    "i = -1\n",
    "\n",
    "myPath= os.getcwd()+\"\\\\\"+myName\n",
    "searchedValue = input(\"Enter Zip Code: \")\n",
    "for sh in xlrd.open_workbook(myPath).sheets():  \n",
    "    found = findCell(sh, searchedValue)\n",
    "\n",
    "    \n",
    "\n",
    "payScale= xl_rowcol_to_cell(found, 2)\n",
    "region= xl_rowcol_to_cell(found, 1)\n",
    "\n",
    "print(region)\n",
    "print(payScale)"
   ]
  },
  {
   "cell_type": "code",
   "execution_count": null,
   "metadata": {},
   "outputs": [
    {
     "name": "stdout",
     "output_type": "stream",
     "text": [
      "Enter Zip Code: 92270,\n",
      "---------------\n",
      "92270,\n"
     ]
    }
   ],
   "source": [
    "import xlwings as xw\n",
    "bookName = r'C:\\Users\\Muhammad Asad Naway\\Desktop\\Python\\book.xlsx'\n",
    "sheetName = 'Sheet1'\n",
    " \n",
    "wb = xw.Book(bookName)\n",
    "sht = wb.sheets[sheetName]\n",
    "\n",
    "searchedValue = input(\"Enter Zip Code: \")\n",
    "myCell = wb.sheets[sheetName].api.UsedRange.Find(searchedValue)\n",
    "print('---------------')\n",
    "print (myCell.value)\n",
    "input()"
   ]
  },
  {
   "cell_type": "code",
   "execution_count": 4,
   "metadata": {},
   "outputs": [
    {
     "name": "stdout",
     "output_type": "stream",
     "text": [
      "Enter Zip Code: 77003\n",
      "1729    TX\n",
      "Name: Pay Scale, dtype: object\n",
      "1729    TX Houston\n",
      "Name: Region, dtype: object\n"
     ]
    }
   ],
   "source": [
    "import numpy as np\n",
    "import pandas as pd\n",
    "excel_file = 'book.xlsx'\n",
    "df=pd.read_excel(excel_file)\n",
    "\n",
    "searchedValue = input(\"Enter Zip Code: \")\n",
    "searchedValue=searchedValue+','\n",
    "Pay_Scale=df['Pay Scale'].where(df['Zip'] == searchedValue)\n",
    "print(Pay_Scale.dropna())\n",
    "region=df['Region'].where(df['Zip'] == searchedValue)\n",
    "print(region.dropna())"
   ]
  },
  {
   "cell_type": "code",
   "execution_count": 29,
   "metadata": {},
   "outputs": [
    {
     "name": "stdout",
     "output_type": "stream",
     "text": [
      "Enter Zip Code: 85224\n",
      "Pay Scale: AZ High\n",
      "Region: AZ Phoenix\n",
      "85224, Found in the List\n"
     ]
    }
   ],
   "source": [
    "from openpyxl import load_workbook\n",
    "book = load_workbook('book.xlsx')\n",
    "sheet = book['Sheet1']\n",
    "\n",
    "#Get the Zip code from User\n",
    "searchedValue = input(\"Enter Zip Code: \")\n",
    "#Excel sheet has values with \",\" so we are adding the , to Zipcode entered by User\n",
    "searchedValue=searchedValue+','\n",
    "\n",
    "check=-1\n",
    "\n",
    "#Finding the Zipcode row entered by User\n",
    "for row in sheet.rows:\n",
    "    if(row[0].value == searchedValue):\n",
    "        # geting the payScale value\n",
    "        pay_Scale=row[2].value\n",
    "        # getting the region value\n",
    "        region=row[1].value\n",
    "        print('Pay Scale: '+pay_Scale)\n",
    "        print('Region: '+region)\n",
    "        \n",
    "        check=1\n",
    "        \n",
    "if(check==1):\n",
    "    print(searchedValue+' Found in the List')\n",
    "else:\n",
    "    print(searchedValue+' Is Not Found in the List') \n",
    "    \n",
    "    "
   ]
  },
  {
   "cell_type": "code",
   "execution_count": null,
   "metadata": {},
   "outputs": [],
   "source": []
  },
  {
   "cell_type": "code",
   "execution_count": null,
   "metadata": {},
   "outputs": [],
   "source": []
  },
  {
   "cell_type": "code",
   "execution_count": null,
   "metadata": {},
   "outputs": [],
   "source": []
  },
  {
   "cell_type": "code",
   "execution_count": null,
   "metadata": {},
   "outputs": [],
   "source": []
  },
  {
   "cell_type": "code",
   "execution_count": null,
   "metadata": {},
   "outputs": [],
   "source": []
  },
  {
   "cell_type": "code",
   "execution_count": null,
   "metadata": {},
   "outputs": [],
   "source": []
  },
  {
   "cell_type": "code",
   "execution_count": null,
   "metadata": {},
   "outputs": [],
   "source": []
  },
  {
   "cell_type": "code",
   "execution_count": null,
   "metadata": {},
   "outputs": [],
   "source": []
  },
  {
   "cell_type": "code",
   "execution_count": null,
   "metadata": {},
   "outputs": [],
   "source": []
  },
  {
   "cell_type": "code",
   "execution_count": null,
   "metadata": {},
   "outputs": [],
   "source": []
  },
  {
   "cell_type": "code",
   "execution_count": null,
   "metadata": {},
   "outputs": [],
   "source": []
  },
  {
   "cell_type": "code",
   "execution_count": null,
   "metadata": {},
   "outputs": [],
   "source": []
  },
  {
   "cell_type": "code",
   "execution_count": null,
   "metadata": {},
   "outputs": [],
   "source": []
  },
  {
   "cell_type": "code",
   "execution_count": null,
   "metadata": {},
   "outputs": [],
   "source": []
  },
  {
   "cell_type": "code",
   "execution_count": null,
   "metadata": {},
   "outputs": [],
   "source": []
  },
  {
   "cell_type": "code",
   "execution_count": null,
   "metadata": {},
   "outputs": [],
   "source": []
  },
  {
   "cell_type": "code",
   "execution_count": null,
   "metadata": {},
   "outputs": [],
   "source": []
  },
  {
   "cell_type": "code",
   "execution_count": null,
   "metadata": {},
   "outputs": [],
   "source": []
  },
  {
   "cell_type": "code",
   "execution_count": null,
   "metadata": {},
   "outputs": [],
   "source": []
  },
  {
   "cell_type": "code",
   "execution_count": null,
   "metadata": {},
   "outputs": [],
   "source": []
  },
  {
   "cell_type": "code",
   "execution_count": null,
   "metadata": {},
   "outputs": [],
   "source": []
  },
  {
   "cell_type": "code",
   "execution_count": null,
   "metadata": {},
   "outputs": [],
   "source": []
  },
  {
   "cell_type": "code",
   "execution_count": null,
   "metadata": {},
   "outputs": [],
   "source": []
  },
  {
   "cell_type": "code",
   "execution_count": null,
   "metadata": {},
   "outputs": [],
   "source": []
  },
  {
   "cell_type": "code",
   "execution_count": null,
   "metadata": {},
   "outputs": [],
   "source": []
  },
  {
   "cell_type": "code",
   "execution_count": null,
   "metadata": {},
   "outputs": [],
   "source": []
  },
  {
   "cell_type": "code",
   "execution_count": null,
   "metadata": {},
   "outputs": [],
   "source": []
  },
  {
   "cell_type": "code",
   "execution_count": null,
   "metadata": {},
   "outputs": [],
   "source": [
    "\n"
   ]
  },
  {
   "cell_type": "code",
   "execution_count": null,
   "metadata": {},
   "outputs": [],
   "source": []
  },
  {
   "cell_type": "code",
   "execution_count": null,
   "metadata": {},
   "outputs": [],
   "source": []
  },
  {
   "cell_type": "code",
   "execution_count": null,
   "metadata": {},
   "outputs": [],
   "source": []
  },
  {
   "cell_type": "code",
   "execution_count": null,
   "metadata": {},
   "outputs": [],
   "source": []
  },
  {
   "cell_type": "code",
   "execution_count": null,
   "metadata": {},
   "outputs": [],
   "source": []
  },
  {
   "cell_type": "code",
   "execution_count": null,
   "metadata": {},
   "outputs": [],
   "source": []
  },
  {
   "cell_type": "code",
   "execution_count": null,
   "metadata": {},
   "outputs": [],
   "source": []
  },
  {
   "cell_type": "code",
   "execution_count": null,
   "metadata": {},
   "outputs": [],
   "source": []
  },
  {
   "cell_type": "code",
   "execution_count": null,
   "metadata": {},
   "outputs": [],
   "source": []
  },
  {
   "cell_type": "code",
   "execution_count": null,
   "metadata": {},
   "outputs": [],
   "source": []
  }
 ],
 "metadata": {
  "kernelspec": {
   "display_name": "Python 3",
   "language": "python",
   "name": "python3"
  },
  "language_info": {
   "codemirror_mode": {
    "name": "ipython",
    "version": 3
   },
   "file_extension": ".py",
   "mimetype": "text/x-python",
   "name": "python",
   "nbconvert_exporter": "python",
   "pygments_lexer": "ipython3",
   "version": "3.7.4"
  }
 },
 "nbformat": 4,
 "nbformat_minor": 2
}
