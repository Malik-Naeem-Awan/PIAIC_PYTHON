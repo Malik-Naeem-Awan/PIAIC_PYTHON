{
 "cells": [
  {
   "cell_type": "code",
   "execution_count": 1,
   "metadata": {},
   "outputs": [],
   "source": [
    "import numpy as np"
   ]
  },
  {
   "cell_type": "code",
   "execution_count": 3,
   "metadata": {},
   "outputs": [],
   "source": [
    "x=np.random.randn(4,5)"
   ]
  },
  {
   "cell_type": "code",
   "execution_count": 4,
   "metadata": {},
   "outputs": [
    {
     "data": {
      "text/plain": [
       "array([[ 1.74525951, -1.24881934, -0.12509807, -1.75798925,  0.77049041],\n",
       "       [-0.32893673,  1.02205556, -0.10066297,  1.93124904, -0.04298269],\n",
       "       [-0.17043704,  1.00065255, -0.34167806,  0.36309787,  1.18760759],\n",
       "       [-0.05792717,  1.03218624, -0.4873159 ,  0.71721599, -0.7024611 ]])"
      ]
     },
     "execution_count": 4,
     "metadata": {},
     "output_type": "execute_result"
    }
   ],
   "source": [
    "x"
   ]
  },
  {
   "cell_type": "code",
   "execution_count": 5,
   "metadata": {},
   "outputs": [
    {
     "data": {
      "text/plain": [
       "array([[[ 1.74525951, -1.24881934, -0.12509807, -1.75798925,\n",
       "          0.77049041],\n",
       "        [-0.32893673,  1.02205556, -0.10066297,  1.93124904,\n",
       "         -0.04298269]],\n",
       "\n",
       "       [[-0.17043704,  1.00065255, -0.34167806,  0.36309787,\n",
       "          1.18760759],\n",
       "        [-0.05792717,  1.03218624, -0.4873159 ,  0.71721599,\n",
       "         -0.7024611 ]]])"
      ]
     },
     "execution_count": 5,
     "metadata": {},
     "output_type": "execute_result"
    }
   ],
   "source": [
    "x.reshape((2,2,5))"
   ]
  },
  {
   "cell_type": "code",
   "execution_count": 6,
   "metadata": {},
   "outputs": [
    {
     "data": {
      "text/plain": [
       "array([[[ 1.74525951, -1.24881934, -0.12509807, -1.75798925,\n",
       "          0.77049041],\n",
       "        [-0.32893673,  1.02205556, -0.10066297,  1.93124904,\n",
       "         -0.04298269]],\n",
       "\n",
       "       [[-0.17043704,  1.00065255, -0.34167806,  0.36309787,\n",
       "          1.18760759],\n",
       "        [-0.05792717,  1.03218624, -0.4873159 ,  0.71721599,\n",
       "         -0.7024611 ]]])"
      ]
     },
     "execution_count": 6,
     "metadata": {},
     "output_type": "execute_result"
    }
   ],
   "source": [
    "x.reshape((2,2,-1))"
   ]
  },
  {
   "cell_type": "code",
   "execution_count": 7,
   "metadata": {},
   "outputs": [
    {
     "data": {
      "text/plain": [
       "array([[ 1.74525951, -1.24881934, -0.12509807, -1.75798925,  0.77049041],\n",
       "       [-0.32893673,  1.02205556, -0.10066297,  1.93124904, -0.04298269],\n",
       "       [-0.17043704,  1.00065255, -0.34167806,  0.36309787,  1.18760759],\n",
       "       [-0.05792717,  1.03218624, -0.4873159 ,  0.71721599, -0.7024611 ]])"
      ]
     },
     "execution_count": 7,
     "metadata": {},
     "output_type": "execute_result"
    }
   ],
   "source": [
    "x"
   ]
  },
  {
   "cell_type": "code",
   "execution_count": 8,
   "metadata": {},
   "outputs": [
    {
     "data": {
      "text/plain": [
       "array([ 1.74525951, -1.24881934, -0.12509807, -1.75798925,  0.77049041,\n",
       "       -0.32893673,  1.02205556, -0.10066297,  1.93124904, -0.04298269,\n",
       "       -0.17043704,  1.00065255, -0.34167806,  0.36309787,  1.18760759,\n",
       "       -0.05792717,  1.03218624, -0.4873159 ,  0.71721599, -0.7024611 ])"
      ]
     },
     "execution_count": 8,
     "metadata": {},
     "output_type": "execute_result"
    }
   ],
   "source": [
    "x.ravel()"
   ]
  },
  {
   "cell_type": "code",
   "execution_count": 9,
   "metadata": {},
   "outputs": [
    {
     "data": {
      "text/plain": [
       "array([ 1.74525951, -1.24881934, -0.12509807, -1.75798925,  0.77049041,\n",
       "       -0.32893673,  1.02205556, -0.10066297,  1.93124904, -0.04298269,\n",
       "       -0.17043704,  1.00065255, -0.34167806,  0.36309787,  1.18760759,\n",
       "       -0.05792717,  1.03218624, -0.4873159 ,  0.71721599, -0.7024611 ])"
      ]
     },
     "execution_count": 9,
     "metadata": {},
     "output_type": "execute_result"
    }
   ],
   "source": [
    "x.flatten()"
   ]
  },
  {
   "cell_type": "markdown",
   "metadata": {},
   "source": [
    "# Concatenation"
   ]
  },
  {
   "cell_type": "code",
   "execution_count": 18,
   "metadata": {},
   "outputs": [],
   "source": [
    "x=[[1,3,5],[1,66,8]]"
   ]
  },
  {
   "cell_type": "code",
   "execution_count": 19,
   "metadata": {},
   "outputs": [],
   "source": [
    "arr1=np.array(x)"
   ]
  },
  {
   "cell_type": "code",
   "execution_count": 15,
   "metadata": {},
   "outputs": [],
   "source": [
    "y=[[5,7,3],[2,6,23]]"
   ]
  },
  {
   "cell_type": "code",
   "execution_count": 16,
   "metadata": {},
   "outputs": [],
   "source": [
    "arr2=np.array(y)"
   ]
  },
  {
   "cell_type": "code",
   "execution_count": 20,
   "metadata": {},
   "outputs": [
    {
     "data": {
      "text/plain": [
       "array([[ 1,  3,  5],\n",
       "       [ 1, 66,  8],\n",
       "       [ 5,  7,  3],\n",
       "       [ 2,  6, 23]])"
      ]
     },
     "execution_count": 20,
     "metadata": {},
     "output_type": "execute_result"
    }
   ],
   "source": [
    "np.concatenate((arr1,arr2),axis=0)"
   ]
  },
  {
   "cell_type": "code",
   "execution_count": 21,
   "metadata": {},
   "outputs": [
    {
     "data": {
      "text/plain": [
       "array([[ 1,  3,  5,  5,  7,  3],\n",
       "       [ 1, 66,  8,  2,  6, 23]])"
      ]
     },
     "execution_count": 21,
     "metadata": {},
     "output_type": "execute_result"
    }
   ],
   "source": [
    "np.concatenate((arr1,arr2),axis=1)"
   ]
  },
  {
   "cell_type": "code",
   "execution_count": 22,
   "metadata": {},
   "outputs": [
    {
     "data": {
      "text/plain": [
       "array([[ 1,  3,  5],\n",
       "       [ 1, 66,  8],\n",
       "       [ 5,  7,  3],\n",
       "       [ 2,  6, 23]])"
      ]
     },
     "execution_count": 22,
     "metadata": {},
     "output_type": "execute_result"
    }
   ],
   "source": [
    "np.vstack((arr1,arr2))"
   ]
  },
  {
   "cell_type": "code",
   "execution_count": 23,
   "metadata": {},
   "outputs": [
    {
     "data": {
      "text/plain": [
       "array([[ 1,  3,  5,  5,  7,  3],\n",
       "       [ 1, 66,  8,  2,  6, 23]])"
      ]
     },
     "execution_count": 23,
     "metadata": {},
     "output_type": "execute_result"
    }
   ],
   "source": [
    "np.hstack((arr1,arr2))"
   ]
  },
  {
   "cell_type": "code",
   "execution_count": null,
   "metadata": {},
   "outputs": [],
   "source": []
  },
  {
   "cell_type": "code",
   "execution_count": null,
   "metadata": {},
   "outputs": [],
   "source": []
  },
  {
   "cell_type": "code",
   "execution_count": null,
   "metadata": {},
   "outputs": [],
   "source": []
  },
  {
   "cell_type": "code",
   "execution_count": null,
   "metadata": {},
   "outputs": [],
   "source": []
  },
  {
   "cell_type": "code",
   "execution_count": null,
   "metadata": {},
   "outputs": [],
   "source": []
  },
  {
   "cell_type": "code",
   "execution_count": null,
   "metadata": {},
   "outputs": [],
   "source": []
  },
  {
   "cell_type": "code",
   "execution_count": null,
   "metadata": {},
   "outputs": [],
   "source": []
  },
  {
   "cell_type": "code",
   "execution_count": null,
   "metadata": {},
   "outputs": [],
   "source": []
  }
 ],
 "metadata": {
  "kernelspec": {
   "display_name": "Python 3",
   "language": "python",
   "name": "python3"
  },
  "language_info": {
   "codemirror_mode": {
    "name": "ipython",
    "version": 3
   },
   "file_extension": ".py",
   "mimetype": "text/x-python",
   "name": "python",
   "nbconvert_exporter": "python",
   "pygments_lexer": "ipython3",
   "version": "3.7.4"
  }
 },
 "nbformat": 4,
 "nbformat_minor": 2
}
