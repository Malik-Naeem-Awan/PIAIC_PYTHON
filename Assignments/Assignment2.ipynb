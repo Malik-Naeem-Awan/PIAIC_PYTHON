{
 "cells": [
  {
   "cell_type": "markdown",
   "metadata": {},
   "source": [
    "# Question 1:"
   ]
  },
  {
   "cell_type": "code",
   "execution_count": 1,
   "metadata": {},
   "outputs": [],
   "source": [
    "#Write a program to solve a classic ancient Chinese puzzle:\n",
    "#We count 35 heads and 94 legs among the chickens and rabbits in a\n",
    "#farm. How many rabbits and how many chickens do we have?"
   ]
  },
  {
   "cell_type": "code",
   "execution_count": 2,
   "metadata": {},
   "outputs": [
    {
     "name": "stdout",
     "output_type": "stream",
     "text": [
      "Rabbits: 23 Chicken: 12\n"
     ]
    }
   ],
   "source": [
    "heads = 35\n",
    "legs = 94\n",
    "legsOfRabbit = 4\n",
    "\n",
    "rabbits = legs // 4\n",
    "chicken = heads - rabbits\n",
    "\n",
    "print (\"Rabbits: \" + str(rabbits) + \" Chicken: \" + str(chicken))"
   ]
  },
  {
   "cell_type": "markdown",
   "metadata": {},
   "source": [
    "# Question 2:"
   ]
  },
  {
   "cell_type": "code",
   "execution_count": 3,
   "metadata": {},
   "outputs": [],
   "source": [
    "#Please write a program which accepts a string from console and print\n",
    "#the characters that have even indexes."
   ]
  },
  {
   "cell_type": "code",
   "execution_count": 6,
   "metadata": {},
   "outputs": [
    {
     "name": "stdout",
     "output_type": "stream",
     "text": [
      "Enter any string: H1e2l3l4o5w6o7r8l9d\n",
      "-------------------\n",
      "You Entered: H1e2l3l4o5w6o7r8l9d\n",
      "Result:\n",
      "Helloworld\n"
     ]
    }
   ],
   "source": [
    "inputchars=input(\"Enter any string: \")\n",
    "if inputchars:\n",
    "    string = \"\"\n",
    "for i in inputchars:\n",
    "    if inputchars.index(i)%2 == 0:\n",
    "        string += str(i)\n",
    "\n",
    "print('-------------------')\n",
    "print(\"You Entered:\", inputchars)\n",
    "print(\"Result:\")\n",
    "print(string)"
   ]
  },
  {
   "cell_type": "markdown",
   "metadata": {},
   "source": [
    "# Question 3: \n"
   ]
  },
  {
   "cell_type": "code",
   "execution_count": 7,
   "metadata": {},
   "outputs": [],
   "source": [
    "#Please write a program which accepts a string from console and print\n",
    "#it in reverse order."
   ]
  },
  {
   "cell_type": "code",
   "execution_count": 8,
   "metadata": {},
   "outputs": [
    {
     "name": "stdout",
     "output_type": "stream",
     "text": [
      "The original string  is : Geeksforgeeks\n",
      "The reversed string(using extended slice syntax) is : skeegrofskeeG\n"
     ]
    }
   ],
   "source": [
    "# Python code to reverse a string  \n",
    "# using extended slice syntax \n",
    "  \n",
    "# Function to reverse a string \n",
    "def reverse(string): \n",
    "    string = string[::-1] \n",
    "    return string \n",
    "  \n",
    "s = \"Geeksforgeeks\"\n",
    "  \n",
    "print (\"The original string  is : \",end=\"\") \n",
    "print (s) \n",
    "  \n",
    "print (\"The reversed string(using extended slice syntax) is : \",end=\"\") \n",
    "print (reverse(s)) "
   ]
  },
  {
   "cell_type": "code",
   "execution_count": null,
   "metadata": {},
   "outputs": [],
   "source": []
  },
  {
   "cell_type": "code",
   "execution_count": null,
   "metadata": {},
   "outputs": [],
   "source": []
  },
  {
   "cell_type": "code",
   "execution_count": null,
   "metadata": {},
   "outputs": [],
   "source": []
  }
 ],
 "metadata": {
  "kernelspec": {
   "display_name": "Python 3",
   "language": "python",
   "name": "python3"
  },
  "language_info": {
   "codemirror_mode": {
    "name": "ipython",
    "version": 3
   },
   "file_extension": ".py",
   "mimetype": "text/x-python",
   "name": "python",
   "nbconvert_exporter": "python",
   "pygments_lexer": "ipython3",
   "version": "3.7.4"
  }
 },
 "nbformat": 4,
 "nbformat_minor": 2
}
